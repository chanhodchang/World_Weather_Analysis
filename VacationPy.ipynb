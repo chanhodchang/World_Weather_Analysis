{
 "cells": [
  {
   "cell_type": "code",
   "execution_count": 1,
   "metadata": {},
   "outputs": [],
   "source": [
    "# import the dependencies\n",
    "import pandas as pd\n",
    "import gmaps\n",
    "import requests\n",
    "# Import the API key.\n",
    "from config import g_key"
   ]
  },
  {
   "cell_type": "code",
   "execution_count": 2,
   "metadata": {},
   "outputs": [
    {
     "data": {
      "text/html": [
       "<div>\n",
       "<style scoped>\n",
       "    .dataframe tbody tr th:only-of-type {\n",
       "        vertical-align: middle;\n",
       "    }\n",
       "\n",
       "    .dataframe tbody tr th {\n",
       "        vertical-align: top;\n",
       "    }\n",
       "\n",
       "    .dataframe thead th {\n",
       "        text-align: right;\n",
       "    }\n",
       "</style>\n",
       "<table border=\"1\" class=\"dataframe\">\n",
       "  <thead>\n",
       "    <tr style=\"text-align: right;\">\n",
       "      <th></th>\n",
       "      <th>City_ID</th>\n",
       "      <th>City</th>\n",
       "      <th>Country</th>\n",
       "      <th>Date</th>\n",
       "      <th>Lat</th>\n",
       "      <th>Lng</th>\n",
       "      <th>Max Temp</th>\n",
       "      <th>Humidity</th>\n",
       "      <th>Cloudiness</th>\n",
       "      <th>Wind Speed</th>\n",
       "    </tr>\n",
       "  </thead>\n",
       "  <tbody>\n",
       "    <tr>\n",
       "      <th>0</th>\n",
       "      <td>0</td>\n",
       "      <td>Tuktoyaktuk</td>\n",
       "      <td>CA</td>\n",
       "      <td>2020-01-02 19:32:22</td>\n",
       "      <td>69.44</td>\n",
       "      <td>-133.03</td>\n",
       "      <td>-13.00</td>\n",
       "      <td>75</td>\n",
       "      <td>75</td>\n",
       "      <td>14.99</td>\n",
       "    </tr>\n",
       "    <tr>\n",
       "      <th>1</th>\n",
       "      <td>1</td>\n",
       "      <td>Avarua</td>\n",
       "      <td>CK</td>\n",
       "      <td>2020-01-02 19:31:37</td>\n",
       "      <td>-21.21</td>\n",
       "      <td>-159.78</td>\n",
       "      <td>77.00</td>\n",
       "      <td>73</td>\n",
       "      <td>83</td>\n",
       "      <td>2.24</td>\n",
       "    </tr>\n",
       "    <tr>\n",
       "      <th>2</th>\n",
       "      <td>2</td>\n",
       "      <td>Albany</td>\n",
       "      <td>US</td>\n",
       "      <td>2020-01-02 19:32:22</td>\n",
       "      <td>42.65</td>\n",
       "      <td>-73.75</td>\n",
       "      <td>45.00</td>\n",
       "      <td>52</td>\n",
       "      <td>20</td>\n",
       "      <td>6.93</td>\n",
       "    </tr>\n",
       "    <tr>\n",
       "      <th>3</th>\n",
       "      <td>3</td>\n",
       "      <td>Haines Junction</td>\n",
       "      <td>CA</td>\n",
       "      <td>2020-01-02 19:32:23</td>\n",
       "      <td>60.75</td>\n",
       "      <td>-137.51</td>\n",
       "      <td>-2.94</td>\n",
       "      <td>99</td>\n",
       "      <td>72</td>\n",
       "      <td>5.44</td>\n",
       "    </tr>\n",
       "    <tr>\n",
       "      <th>4</th>\n",
       "      <td>4</td>\n",
       "      <td>Flagstaff</td>\n",
       "      <td>US</td>\n",
       "      <td>2020-01-02 19:28:25</td>\n",
       "      <td>35.20</td>\n",
       "      <td>-111.65</td>\n",
       "      <td>52.00</td>\n",
       "      <td>37</td>\n",
       "      <td>1</td>\n",
       "      <td>14.99</td>\n",
       "    </tr>\n",
       "  </tbody>\n",
       "</table>\n",
       "</div>"
      ],
      "text/plain": [
       "   City_ID             City Country                 Date    Lat     Lng  \\\n",
       "0        0      Tuktoyaktuk      CA  2020-01-02 19:32:22  69.44 -133.03   \n",
       "1        1           Avarua      CK  2020-01-02 19:31:37 -21.21 -159.78   \n",
       "2        2           Albany      US  2020-01-02 19:32:22  42.65  -73.75   \n",
       "3        3  Haines Junction      CA  2020-01-02 19:32:23  60.75 -137.51   \n",
       "4        4        Flagstaff      US  2020-01-02 19:28:25  35.20 -111.65   \n",
       "\n",
       "   Max Temp  Humidity  Cloudiness  Wind Speed  \n",
       "0    -13.00        75          75       14.99  \n",
       "1     77.00        73          83        2.24  \n",
       "2     45.00        52          20        6.93  \n",
       "3     -2.94        99          72        5.44  \n",
       "4     52.00        37           1       14.99  "
      ]
     },
     "execution_count": 2,
     "metadata": {},
     "output_type": "execute_result"
    }
   ],
   "source": [
    "city_data=pd.read_csv('weather_data/cities.csv')\n",
    "city_data.head()"
   ]
  },
  {
   "cell_type": "code",
   "execution_count": 3,
   "metadata": {},
   "outputs": [],
   "source": [
    "# Configure gmaps to use Google API key.\n",
    "gmaps.configure(api_key=g_key)"
   ]
  },
  {
   "cell_type": "code",
   "execution_count": 12,
   "metadata": {},
   "outputs": [],
   "source": [
    "# Get the maximum temperature\n",
    "max_temp=city_data['Max Temp']\n",
    "temps=[]\n",
    "for temp in max_temp:\n",
    "    temps.append(max(temp,0))"
   ]
  },
  {
   "cell_type": "code",
   "execution_count": 13,
   "metadata": {},
   "outputs": [
    {
     "data": {
      "application/vnd.jupyter.widget-view+json": {
       "model_id": "",
       "version_major": 2,
       "version_minor": 0
      },
      "text/plain": [
       "Figure(layout=FigureLayout(height='420px'))"
      ]
     },
     "metadata": {},
     "output_type": "display_data"
    }
   ],
   "source": [
    "# Heatmap of temperature\n",
    "locations=city_data[['Lat','Lng']]\n",
    "max_temp=city_data['Max Temp']\n",
    "fig=gmaps.figure()\n",
    "heat_layer=gmaps.heatmap_layer(locations, weights=temps)\n",
    "fig.add_layer(heat_layer)\n",
    "fig"
   ]
  },
  {
   "cell_type": "code",
   "execution_count": 19,
   "metadata": {},
   "outputs": [
    {
     "data": {
      "application/vnd.jupyter.widget-view+json": {
       "model_id": "3fa66b7e21984524847e6d7fa7983b1e",
       "version_major": 2,
       "version_minor": 0
      },
      "text/plain": [
       "Figure(layout=FigureLayout(height='420px'))"
      ]
     },
     "metadata": {},
     "output_type": "display_data"
    }
   ],
   "source": [
    "# Heatmap of temperature with maxtemp list comprehension\n",
    "locations=city_data[['Lat','Lng']]\n",
    "max_temp=city_data['Max Temp']\n",
    "fig=gmaps.figure(center=(30.0,31.0), zoom_level=1.5)\n",
    "heat_layer=gmaps.heatmap_layer(locations, weights=[max(temp, 0) for temp in max_temp],\n",
    "                              dissipating=False,max_intensity=300,point_radius=4)\n",
    "fig.add_layer(heat_layer)\n",
    "fig"
   ]
  },
  {
   "cell_type": "code",
   "execution_count": 23,
   "metadata": {},
   "outputs": [
    {
     "data": {
      "application/vnd.jupyter.widget-view+json": {
       "model_id": "77a8c104060a486db2601bc45b827079",
       "version_major": 2,
       "version_minor": 0
      },
      "text/plain": [
       "Figure(layout=FigureLayout(height='420px'))"
      ]
     },
     "metadata": {},
     "output_type": "display_data"
    }
   ],
   "source": [
    "# Heatmap of percent humidity.\n",
    "locations=city_data[['Lat','Lng']]\n",
    "humidity=city_data['Humidity']\n",
    "fig=gmaps.figure(center=(30.0,31.0), zoom_level=1.5)\n",
    "heat_layer=gmaps.heatmap_layer(locations,weights=humidity,\n",
    "                               dissipating=False,max_intensity=300,point_radius=4)\n",
    "fig.add_layer(heat_layer)\n",
    "fig"
   ]
  },
  {
   "cell_type": "code",
   "execution_count": 24,
   "metadata": {},
   "outputs": [
    {
     "data": {
      "application/vnd.jupyter.widget-view+json": {
       "model_id": "d22d07adf22e4705aa17d8e6e6781352",
       "version_major": 2,
       "version_minor": 0
      },
      "text/plain": [
       "Figure(layout=FigureLayout(height='420px'))"
      ]
     },
     "metadata": {},
     "output_type": "display_data"
    }
   ],
   "source": [
    "# Heatmap of percent cloudiness\n",
    "locations=city_data[['Lat','Lng']]\n",
    "clouds=city_data['Cloudiness']\n",
    "fig=gmaps.figure(center=(30.0,31.0),zoom_level=1.5)\n",
    "heat_layer=gmaps.heatmap_layer(locations,weights=clouds,\n",
    "                              dissipating=False, max_intensity=300, point_radius=4)\n",
    "fig.add_layer(heat_layer)\n",
    "fig"
   ]
  },
  {
   "cell_type": "code",
   "execution_count": 25,
   "metadata": {},
   "outputs": [
    {
     "data": {
      "application/vnd.jupyter.widget-view+json": {
       "model_id": "3916fffe97704197b4f592e701ccfde2",
       "version_major": 2,
       "version_minor": 0
      },
      "text/plain": [
       "Figure(layout=FigureLayout(height='420px'))"
      ]
     },
     "metadata": {},
     "output_type": "display_data"
    }
   ],
   "source": [
    "# Heatmap of Wind Speed\n",
    "locations=city_data[['Lat','Lng']]\n",
    "wind=city_data['Wind Speed']\n",
    "fig=gmaps.figure(center=(30.0,31.0),zoom_level=1.5)\n",
    "heat_layer=gmaps.heatmap_layer(locations,weights=wind,\n",
    "                              dissipating=False, max_intensity=300, point_radius=4)\n",
    "fig.add_layer(heat_layer)\n",
    "fig"
   ]
  },
  {
   "cell_type": "code",
   "execution_count": 32,
   "metadata": {},
   "outputs": [
    {
     "name": "stdout",
     "output_type": "stream",
     "text": [
      "What is the minimum temperature you would like for your trip? 80\n",
      "What is the maximum temperature you would like for your trip? 100\n"
     ]
    },
    {
     "data": {
      "text/html": [
       "<div>\n",
       "<style scoped>\n",
       "    .dataframe tbody tr th:only-of-type {\n",
       "        vertical-align: middle;\n",
       "    }\n",
       "\n",
       "    .dataframe tbody tr th {\n",
       "        vertical-align: top;\n",
       "    }\n",
       "\n",
       "    .dataframe thead th {\n",
       "        text-align: right;\n",
       "    }\n",
       "</style>\n",
       "<table border=\"1\" class=\"dataframe\">\n",
       "  <thead>\n",
       "    <tr style=\"text-align: right;\">\n",
       "      <th></th>\n",
       "      <th>City_ID</th>\n",
       "      <th>City</th>\n",
       "      <th>Country</th>\n",
       "      <th>Date</th>\n",
       "      <th>Lat</th>\n",
       "      <th>Lng</th>\n",
       "      <th>Max Temp</th>\n",
       "      <th>Humidity</th>\n",
       "      <th>Cloudiness</th>\n",
       "      <th>Wind Speed</th>\n",
       "    </tr>\n",
       "  </thead>\n",
       "  <tbody>\n",
       "    <tr>\n",
       "      <th>7</th>\n",
       "      <td>7</td>\n",
       "      <td>Georgetown</td>\n",
       "      <td>GY</td>\n",
       "      <td>2020-01-02 19:32:24</td>\n",
       "      <td>6.80</td>\n",
       "      <td>-58.16</td>\n",
       "      <td>86.00</td>\n",
       "      <td>65</td>\n",
       "      <td>20</td>\n",
       "      <td>9.17</td>\n",
       "    </tr>\n",
       "    <tr>\n",
       "      <th>8</th>\n",
       "      <td>8</td>\n",
       "      <td>Trinidad</td>\n",
       "      <td>BO</td>\n",
       "      <td>2020-01-02 19:29:38</td>\n",
       "      <td>-14.83</td>\n",
       "      <td>-64.90</td>\n",
       "      <td>84.20</td>\n",
       "      <td>79</td>\n",
       "      <td>75</td>\n",
       "      <td>4.70</td>\n",
       "    </tr>\n",
       "    <tr>\n",
       "      <th>11</th>\n",
       "      <td>11</td>\n",
       "      <td>Buchanan</td>\n",
       "      <td>LR</td>\n",
       "      <td>2020-01-02 19:32:25</td>\n",
       "      <td>5.88</td>\n",
       "      <td>-10.05</td>\n",
       "      <td>80.60</td>\n",
       "      <td>83</td>\n",
       "      <td>20</td>\n",
       "      <td>3.60</td>\n",
       "    </tr>\n",
       "    <tr>\n",
       "      <th>16</th>\n",
       "      <td>16</td>\n",
       "      <td>Arraial Do Cabo</td>\n",
       "      <td>BR</td>\n",
       "      <td>2020-01-02 19:32:27</td>\n",
       "      <td>-22.97</td>\n",
       "      <td>-42.02</td>\n",
       "      <td>86.00</td>\n",
       "      <td>74</td>\n",
       "      <td>75</td>\n",
       "      <td>6.93</td>\n",
       "    </tr>\n",
       "    <tr>\n",
       "      <th>17</th>\n",
       "      <td>17</td>\n",
       "      <td>San Patricio</td>\n",
       "      <td>PY</td>\n",
       "      <td>2020-01-02 19:32:27</td>\n",
       "      <td>-26.98</td>\n",
       "      <td>-56.83</td>\n",
       "      <td>85.98</td>\n",
       "      <td>49</td>\n",
       "      <td>67</td>\n",
       "      <td>9.42</td>\n",
       "    </tr>\n",
       "    <tr>\n",
       "      <th>21</th>\n",
       "      <td>21</td>\n",
       "      <td>Hithadhoo</td>\n",
       "      <td>MV</td>\n",
       "      <td>2020-01-02 19:32:28</td>\n",
       "      <td>-0.60</td>\n",
       "      <td>73.08</td>\n",
       "      <td>82.69</td>\n",
       "      <td>78</td>\n",
       "      <td>0</td>\n",
       "      <td>13.13</td>\n",
       "    </tr>\n",
       "    <tr>\n",
       "      <th>35</th>\n",
       "      <td>35</td>\n",
       "      <td>Pointe-Noire</td>\n",
       "      <td>CG</td>\n",
       "      <td>2020-01-02 19:32:32</td>\n",
       "      <td>-4.80</td>\n",
       "      <td>11.85</td>\n",
       "      <td>84.20</td>\n",
       "      <td>83</td>\n",
       "      <td>40</td>\n",
       "      <td>8.05</td>\n",
       "    </tr>\n",
       "    <tr>\n",
       "      <th>41</th>\n",
       "      <td>41</td>\n",
       "      <td>Boa Vista</td>\n",
       "      <td>BR</td>\n",
       "      <td>2020-01-02 19:29:05</td>\n",
       "      <td>2.82</td>\n",
       "      <td>-60.67</td>\n",
       "      <td>91.40</td>\n",
       "      <td>36</td>\n",
       "      <td>40</td>\n",
       "      <td>13.87</td>\n",
       "    </tr>\n",
       "    <tr>\n",
       "      <th>42</th>\n",
       "      <td>42</td>\n",
       "      <td>Maragogi</td>\n",
       "      <td>BR</td>\n",
       "      <td>2020-01-02 19:32:35</td>\n",
       "      <td>-9.01</td>\n",
       "      <td>-35.22</td>\n",
       "      <td>80.64</td>\n",
       "      <td>82</td>\n",
       "      <td>10</td>\n",
       "      <td>11.34</td>\n",
       "    </tr>\n",
       "    <tr>\n",
       "      <th>44</th>\n",
       "      <td>44</td>\n",
       "      <td>Barrow</td>\n",
       "      <td>AR</td>\n",
       "      <td>2020-01-02 19:28:04</td>\n",
       "      <td>-38.31</td>\n",
       "      <td>-60.23</td>\n",
       "      <td>83.77</td>\n",
       "      <td>32</td>\n",
       "      <td>16</td>\n",
       "      <td>10.63</td>\n",
       "    </tr>\n",
       "  </tbody>\n",
       "</table>\n",
       "</div>"
      ],
      "text/plain": [
       "    City_ID             City Country                 Date    Lat    Lng  \\\n",
       "7         7       Georgetown      GY  2020-01-02 19:32:24   6.80 -58.16   \n",
       "8         8         Trinidad      BO  2020-01-02 19:29:38 -14.83 -64.90   \n",
       "11       11         Buchanan      LR  2020-01-02 19:32:25   5.88 -10.05   \n",
       "16       16  Arraial Do Cabo      BR  2020-01-02 19:32:27 -22.97 -42.02   \n",
       "17       17     San Patricio      PY  2020-01-02 19:32:27 -26.98 -56.83   \n",
       "21       21        Hithadhoo      MV  2020-01-02 19:32:28  -0.60  73.08   \n",
       "35       35     Pointe-Noire      CG  2020-01-02 19:32:32  -4.80  11.85   \n",
       "41       41        Boa Vista      BR  2020-01-02 19:29:05   2.82 -60.67   \n",
       "42       42         Maragogi      BR  2020-01-02 19:32:35  -9.01 -35.22   \n",
       "44       44           Barrow      AR  2020-01-02 19:28:04 -38.31 -60.23   \n",
       "\n",
       "    Max Temp  Humidity  Cloudiness  Wind Speed  \n",
       "7      86.00        65          20        9.17  \n",
       "8      84.20        79          75        4.70  \n",
       "11     80.60        83          20        3.60  \n",
       "16     86.00        74          75        6.93  \n",
       "17     85.98        49          67        9.42  \n",
       "21     82.69        78           0       13.13  \n",
       "35     84.20        83          40        8.05  \n",
       "41     91.40        36          40       13.87  \n",
       "42     80.64        82          10       11.34  \n",
       "44     83.77        32          16       10.63  "
      ]
     },
     "execution_count": 32,
     "metadata": {},
     "output_type": "execute_result"
    }
   ],
   "source": [
    "# Ask the customer to add a minimum and maximum temperature value.\n",
    "min_temp=float(input(\"What is the minimum temperature you would like for your trip? \"))\n",
    "max_temp=float(input('What is the maximum temperature you would like for your trip? '))\n",
    "\n",
    "# Filter the dataset to find the cities that fit the criteria.\n",
    "preferred_cities=city_data.loc[(city_data['Max Temp']<=max_temp)& \\\n",
    "                               (city_data['Max Temp']>= min_temp)]\n",
    "preferred_cities.head(10)"
   ]
  },
  {
   "cell_type": "code",
   "execution_count": 33,
   "metadata": {},
   "outputs": [
    {
     "data": {
      "text/plain": [
       "City_ID       88\n",
       "City          88\n",
       "Country       87\n",
       "Date          88\n",
       "Lat           88\n",
       "Lng           88\n",
       "Max Temp      88\n",
       "Humidity      88\n",
       "Cloudiness    88\n",
       "Wind Speed    88\n",
       "dtype: int64"
      ]
     },
     "execution_count": 33,
     "metadata": {},
     "output_type": "execute_result"
    }
   ],
   "source": [
    "preferred_cities.count()"
   ]
  },
  {
   "cell_type": "code",
   "execution_count": 35,
   "metadata": {},
   "outputs": [
    {
     "data": {
      "text/html": [
       "<div>\n",
       "<style scoped>\n",
       "    .dataframe tbody tr th:only-of-type {\n",
       "        vertical-align: middle;\n",
       "    }\n",
       "\n",
       "    .dataframe tbody tr th {\n",
       "        vertical-align: top;\n",
       "    }\n",
       "\n",
       "    .dataframe thead th {\n",
       "        text-align: right;\n",
       "    }\n",
       "</style>\n",
       "<table border=\"1\" class=\"dataframe\">\n",
       "  <thead>\n",
       "    <tr style=\"text-align: right;\">\n",
       "      <th></th>\n",
       "      <th>City</th>\n",
       "      <th>Country</th>\n",
       "      <th>Max Temp</th>\n",
       "      <th>Lat</th>\n",
       "      <th>Lng</th>\n",
       "      <th>Hotel Name</th>\n",
       "    </tr>\n",
       "  </thead>\n",
       "  <tbody>\n",
       "    <tr>\n",
       "      <th>7</th>\n",
       "      <td>Georgetown</td>\n",
       "      <td>GY</td>\n",
       "      <td>86.00</td>\n",
       "      <td>6.80</td>\n",
       "      <td>-58.16</td>\n",
       "      <td></td>\n",
       "    </tr>\n",
       "    <tr>\n",
       "      <th>8</th>\n",
       "      <td>Trinidad</td>\n",
       "      <td>BO</td>\n",
       "      <td>84.20</td>\n",
       "      <td>-14.83</td>\n",
       "      <td>-64.90</td>\n",
       "      <td></td>\n",
       "    </tr>\n",
       "    <tr>\n",
       "      <th>11</th>\n",
       "      <td>Buchanan</td>\n",
       "      <td>LR</td>\n",
       "      <td>80.60</td>\n",
       "      <td>5.88</td>\n",
       "      <td>-10.05</td>\n",
       "      <td></td>\n",
       "    </tr>\n",
       "    <tr>\n",
       "      <th>16</th>\n",
       "      <td>Arraial Do Cabo</td>\n",
       "      <td>BR</td>\n",
       "      <td>86.00</td>\n",
       "      <td>-22.97</td>\n",
       "      <td>-42.02</td>\n",
       "      <td></td>\n",
       "    </tr>\n",
       "    <tr>\n",
       "      <th>17</th>\n",
       "      <td>San Patricio</td>\n",
       "      <td>PY</td>\n",
       "      <td>85.98</td>\n",
       "      <td>-26.98</td>\n",
       "      <td>-56.83</td>\n",
       "      <td></td>\n",
       "    </tr>\n",
       "    <tr>\n",
       "      <th>21</th>\n",
       "      <td>Hithadhoo</td>\n",
       "      <td>MV</td>\n",
       "      <td>82.69</td>\n",
       "      <td>-0.60</td>\n",
       "      <td>73.08</td>\n",
       "      <td></td>\n",
       "    </tr>\n",
       "    <tr>\n",
       "      <th>35</th>\n",
       "      <td>Pointe-Noire</td>\n",
       "      <td>CG</td>\n",
       "      <td>84.20</td>\n",
       "      <td>-4.80</td>\n",
       "      <td>11.85</td>\n",
       "      <td></td>\n",
       "    </tr>\n",
       "    <tr>\n",
       "      <th>41</th>\n",
       "      <td>Boa Vista</td>\n",
       "      <td>BR</td>\n",
       "      <td>91.40</td>\n",
       "      <td>2.82</td>\n",
       "      <td>-60.67</td>\n",
       "      <td></td>\n",
       "    </tr>\n",
       "    <tr>\n",
       "      <th>42</th>\n",
       "      <td>Maragogi</td>\n",
       "      <td>BR</td>\n",
       "      <td>80.64</td>\n",
       "      <td>-9.01</td>\n",
       "      <td>-35.22</td>\n",
       "      <td></td>\n",
       "    </tr>\n",
       "    <tr>\n",
       "      <th>44</th>\n",
       "      <td>Barrow</td>\n",
       "      <td>AR</td>\n",
       "      <td>83.77</td>\n",
       "      <td>-38.31</td>\n",
       "      <td>-60.23</td>\n",
       "      <td></td>\n",
       "    </tr>\n",
       "  </tbody>\n",
       "</table>\n",
       "</div>"
      ],
      "text/plain": [
       "               City Country  Max Temp    Lat    Lng Hotel Name\n",
       "7        Georgetown      GY     86.00   6.80 -58.16           \n",
       "8          Trinidad      BO     84.20 -14.83 -64.90           \n",
       "11         Buchanan      LR     80.60   5.88 -10.05           \n",
       "16  Arraial Do Cabo      BR     86.00 -22.97 -42.02           \n",
       "17     San Patricio      PY     85.98 -26.98 -56.83           \n",
       "21        Hithadhoo      MV     82.69  -0.60  73.08           \n",
       "35     Pointe-Noire      CG     84.20  -4.80  11.85           \n",
       "41        Boa Vista      BR     91.40   2.82 -60.67           \n",
       "42         Maragogi      BR     80.64  -9.01 -35.22           \n",
       "44           Barrow      AR     83.77 -38.31 -60.23           "
      ]
     },
     "execution_count": 35,
     "metadata": {},
     "output_type": "execute_result"
    }
   ],
   "source": [
    "# Create DataFrame called hotel_df \n",
    "hotel_df=preferred_cities[['City','Country','Max Temp','Lat','Lng']].copy()\n",
    "hotel_df['Hotel Name']=''\n",
    "hotel_df.head(10)"
   ]
  },
  {
   "cell_type": "code",
   "execution_count": 44,
   "metadata": {},
   "outputs": [
    {
     "name": "stdout",
     "output_type": "stream",
     "text": [
      "Hotel not found... skipping.\n",
      "Hotel not found... skipping.\n",
      "Hotel not found... skipping.\n",
      "Hotel not found... skipping.\n",
      "Hotel not found... skipping.\n",
      "Hotel not found... skipping.\n",
      "Hotel not found... skipping.\n",
      "Hotel not found... skipping.\n",
      "Hotel not found... skipping.\n"
     ]
    }
   ],
   "source": [
    "# set the parameters to search for a hotel in PAris.\n",
    "params={\n",
    "    'radius':5000,\n",
    "    'types':'lodging',\n",
    "    'key':g_key}\n",
    "# Iterate through the DataFrame\n",
    "for index, row in hotel_df.iterrows():\n",
    "    # Get the latitude and longitude\n",
    "    lat=row['Lat']\n",
    "    lng=row['Lng']\n",
    "    \n",
    "    # Add the latitude and longitude to the params dictionary as values to the location key\n",
    "    params['location']=f'{lat},{lng}'\n",
    "    \n",
    "    # Use the search term: 'lodging' and our latitude and longitude\n",
    "    base_url='https://maps.googleapis.com/maps/api/place/nearbysearch/json'\n",
    "    # Make requests and get the JSON data from th esearch\n",
    "    hotels = requests.get(base_url, params=params).json()\n",
    "    # Grab the first hotel from the results and store the name.\n",
    "    try:\n",
    "        hotel_df.loc[index,\"Hotel Name\"]=hotels['results'][0]['name']\n",
    "    except (IndexError):\n",
    "        print('Hotel not found... skipping.')"
   ]
  },
  {
   "cell_type": "code",
   "execution_count": 46,
   "metadata": {},
   "outputs": [
    {
     "data": {
      "text/html": [
       "<div>\n",
       "<style scoped>\n",
       "    .dataframe tbody tr th:only-of-type {\n",
       "        vertical-align: middle;\n",
       "    }\n",
       "\n",
       "    .dataframe tbody tr th {\n",
       "        vertical-align: top;\n",
       "    }\n",
       "\n",
       "    .dataframe thead th {\n",
       "        text-align: right;\n",
       "    }\n",
       "</style>\n",
       "<table border=\"1\" class=\"dataframe\">\n",
       "  <thead>\n",
       "    <tr style=\"text-align: right;\">\n",
       "      <th></th>\n",
       "      <th>City</th>\n",
       "      <th>Country</th>\n",
       "      <th>Max Temp</th>\n",
       "      <th>Lat</th>\n",
       "      <th>Lng</th>\n",
       "      <th>Hotel Name</th>\n",
       "    </tr>\n",
       "  </thead>\n",
       "  <tbody>\n",
       "    <tr>\n",
       "      <th>7</th>\n",
       "      <td>Georgetown</td>\n",
       "      <td>GY</td>\n",
       "      <td>86.00</td>\n",
       "      <td>6.80</td>\n",
       "      <td>-58.16</td>\n",
       "      <td>Kanhai's Center</td>\n",
       "    </tr>\n",
       "    <tr>\n",
       "      <th>8</th>\n",
       "      <td>Trinidad</td>\n",
       "      <td>BO</td>\n",
       "      <td>84.20</td>\n",
       "      <td>-14.83</td>\n",
       "      <td>-64.90</td>\n",
       "      <td>Hotel Piesta</td>\n",
       "    </tr>\n",
       "    <tr>\n",
       "      <th>11</th>\n",
       "      <td>Buchanan</td>\n",
       "      <td>LR</td>\n",
       "      <td>80.60</td>\n",
       "      <td>5.88</td>\n",
       "      <td>-10.05</td>\n",
       "      <td>Kamaneahn Hotel Inc</td>\n",
       "    </tr>\n",
       "    <tr>\n",
       "      <th>16</th>\n",
       "      <td>Arraial Do Cabo</td>\n",
       "      <td>BR</td>\n",
       "      <td>86.00</td>\n",
       "      <td>-22.97</td>\n",
       "      <td>-42.02</td>\n",
       "      <td>Pousada Porto Praia</td>\n",
       "    </tr>\n",
       "    <tr>\n",
       "      <th>17</th>\n",
       "      <td>San Patricio</td>\n",
       "      <td>PY</td>\n",
       "      <td>85.98</td>\n",
       "      <td>-26.98</td>\n",
       "      <td>-56.83</td>\n",
       "      <td>Granja \"La Blanca\"</td>\n",
       "    </tr>\n",
       "  </tbody>\n",
       "</table>\n",
       "</div>"
      ],
      "text/plain": [
       "               City Country  Max Temp    Lat    Lng           Hotel Name\n",
       "7        Georgetown      GY     86.00   6.80 -58.16      Kanhai's Center\n",
       "8          Trinidad      BO     84.20 -14.83 -64.90         Hotel Piesta\n",
       "11         Buchanan      LR     80.60   5.88 -10.05  Kamaneahn Hotel Inc\n",
       "16  Arraial Do Cabo      BR     86.00 -22.97 -42.02  Pousada Porto Praia\n",
       "17     San Patricio      PY     85.98 -26.98 -56.83   Granja \"La Blanca\""
      ]
     },
     "execution_count": 46,
     "metadata": {},
     "output_type": "execute_result"
    }
   ],
   "source": [
    "hotel_df.head()"
   ]
  },
  {
   "cell_type": "code",
   "execution_count": 51,
   "metadata": {},
   "outputs": [],
   "source": [
    "info_box_template = \"\"\"\n",
    "<dl>\n",
    "<dt>Hotel Name</dt><dd>{Hotel Name}</dd>\n",
    "<dt>City</dt><dd>{City}</dd>\n",
    "<dt>Country</dt><dd>{Country}</dd>\n",
    "<dt>Max Temp</dt><dd>{Max Temp} °F</dd>\n",
    "</dl>\n",
    "\"\"\"\n",
    "hotel_info=[info_box_template.format(**row) for index, row in hotel_df.iterrows()]"
   ]
  },
  {
   "cell_type": "code",
   "execution_count": 52,
   "metadata": {},
   "outputs": [
    {
     "data": {
      "application/vnd.jupyter.widget-view+json": {
       "model_id": "c3f18583a0344eff8c4a50815873ccdd",
       "version_major": 2,
       "version_minor": 0
      },
      "text/plain": [
       "Figure(layout=FigureLayout(height='420px'))"
      ]
     },
     "metadata": {},
     "output_type": "display_data"
    }
   ],
   "source": [
    "locations=hotel_df[['Lat','Lng']]\n",
    "max_temp=hotel_df['Max Temp']\n",
    "fig=gmaps.figure(center=(30.0,31.0), zoom_level=1.5)\n",
    "heat_layer=gmaps.heatmap_layer(locations, weights=max_temp,\n",
    "                       dissipating=False,max_intensity=300, point_radius=4)\n",
    "marker_layer=gmaps.marker_layer(locations, info_box_content=hotel_info)\n",
    "fig.add_layer(heat_layer)\n",
    "fig.add_layer(marker_layer)\n",
    "fig"
   ]
  },
  {
   "cell_type": "code",
   "execution_count": null,
   "metadata": {},
   "outputs": [],
   "source": []
  }
 ],
 "metadata": {
  "kernelspec": {
   "display_name": "PythonData",
   "language": "python",
   "name": "pythondata"
  },
  "language_info": {
   "codemirror_mode": {
    "name": "ipython",
    "version": 3
   },
   "file_extension": ".py",
   "mimetype": "text/x-python",
   "name": "python",
   "nbconvert_exporter": "python",
   "pygments_lexer": "ipython3",
   "version": "3.7.3"
  }
 },
 "nbformat": 4,
 "nbformat_minor": 2
}
